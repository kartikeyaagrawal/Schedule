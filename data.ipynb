{
 "cells": [
  {
   "cell_type": "code",
   "execution_count": 1,
   "metadata": {},
   "outputs": [],
   "source": [
    "import pandas as pd\n",
    "df= pd.read_csv(\"data.csv\")\n"
   ]
  },
  {
   "cell_type": "code",
   "execution_count": 2,
   "metadata": {},
   "outputs": [],
   "source": [
    "    course_teacher={}  \n",
    "    teacher_course={}\n",
    "    year_course={}\n",
    "    for index, row in df.iterrows():\n",
    "        \n",
    "        #mapping course -> teacher \n",
    "        course = row[\"Course_Name\"].strip()\n",
    "        t=[x.strip() for x in row[\"Instructors\"].split(',')]  \n",
    "        course_teacher[course]=t\n",
    "\n",
    "        #mapping teacher -> course\n",
    "\n",
    "        for x in row[\"Instructors\"].split(','):\n",
    "            instructorname =x.strip()\n",
    "            if instructorname not in teacher_course:\n",
    "                teacher_course[instructorname]=[]\n",
    "            teacher_course[instructorname].append(row[\"Course_Name\"].strip())\n",
    "\n",
    "        #mapping year -> course\n",
    "        year = row[\"Year\"].strip()\n",
    "        if year not in year_course:\n",
    "            year_course[year]=[]\n",
    "        year_course[year].append(course)\n",
    "\n",
    "        \n",
    "        "
   ]
  },
  {
   "cell_type": "code",
   "execution_count": 3,
   "metadata": {},
   "outputs": [
    {
     "name": "stdout",
     "output_type": "stream",
     "text": [
      "BE   ['Santosh Shah', 'R Tomar', 'Kanjlochan Jena', 'Deepak Nair']\n",
      "CP   ['Poonam Gera', 'Vibhor Kant', 'Sudheer Sharma', 'Anukriti Bansal']\n",
      "TCE   ['Manju Dhariwal', 'Usha Kanoongo', 'Payel Pal']\n",
      "M-I   ['S K Gauttam', 'Manish Garg', 'Dheeerendra Mishra', 'Trivedi Harsh Chandrakant']\n",
      "CLP   ['Pomitha Ghoshal', 'Amit Neogi', 'G D Sharma', 'Subhayan Biswas']\n",
      "M-III   ['M K Kadalbajoo', 'Pratibha Garg', 'MTHTBD1', 'MTHTBD2']\n",
      "AP   ['Mukesh Jadon', 'Puneet Jain']\n",
      "IDBMS   ['Rajbir Kaur', 'Nirmal S']\n",
      "COA   ['Preety Singh', 'Bharavi Mishra']\n",
      "AI   ['Kshitiz Verma', 'Puneet Jain']\n",
      "IDS   ['Subrat K Dash', 'Sakthi Balan']\n",
      "SWE   ['Vikas Bajpai', 'R P Gorthi']\n",
      "S&S   ['Navneet Upadhyay', 'Nikhil Sharma']\n",
      "DCS   ['Santosh Shah', 'Kapil Jainwal']\n",
      "OTA   ['Jayprakash Kar', 'Indrajeet singh']\n",
      "CS   ['Hemant Mehta', 'Shweta Bhandari']\n",
      "DC   ['S Debnath', 'Nikhil Sharma']\n",
      "DSP   ['Divyang Rawal', 'Navneet Upadhyay']\n",
      "PTS   ['Rajbala Singh', 'Anu Malik']\n",
      "SEMI   ['Kanjlochan Jena']\n",
      "EEM   ['Deepak Nair', 'R Tomar']\n",
      "MICROI   ['Abhishek Sharma']\n",
      "EFE   ['S S Nehra']\n",
      "MEET   ['Gaurav Chaterjee']\n",
      "MOS   ['A K Dargar']\n",
      "MT 1   ['Manoj Kumar', 'Mayank Modak']\n",
      "ET   ['K K Khatri']\n",
      "IEM   ['Vikram Sharma', 'Deepak Unnune']\n",
      "IS&M   ['Sudheer Sharma']\n",
      "IR   ['Mukesh Jadon']\n",
      "IMAD   ['Shweta Bhandari']\n",
      "UMC   ['Sakthi Balan']\n",
      "GAA   ['Vibhor Kant']\n",
      "MPA   ['Anukriti Bansal']\n",
      "IGCN   ['Purnendu Karmakar']\n",
      "EMPS   ['R Tomar']\n",
      "ICHEM   ['Arpi Majumder']\n",
      "UMP   ['Deepak Unnune']\n",
      "MSI   ['Mohit Makker']\n",
      "VD   ['Prabin Kumar Jha']\n",
      "FNFT   ['Ravi P Gorthi', 'Vikas Bajpai']\n",
      "CC   ['Hemant Mehta']\n",
      "CPSDS   ['Rajul Banerjee']\n",
      "DM   ['Subrat K Dash']\n",
      "RTS   ['Sunil Kumar']\n",
      "DL   ['Kshitiz Verma']\n",
      "IIOT   ['Rajbir K', 'Sunil K']\n",
      "BADUC   ['Hemant Mehta']\n",
      "MDC   ['R Gangopadhyay', 'S Debnath']\n",
      "ITC   ['Joyeeta S', 'Divyang R']\n",
      "DFT   ['Kusum Lata']\n",
      "IIP   ['Joyeeta S']\n",
      "RFE   ['R Tomar']\n",
      "AVLSIC   ['Kapil Jainwal']\n",
      "ATE   ['Mayank Modak']\n",
      "CFD   ['K K Khatri', 'Deepak Selva Kumar']\n",
      "MVIB   ['A K Dargar']\n",
      "AMOS   ['Manoj Kumar']\n",
      "AUTOSAR   ['Abhishek Sharma']\n",
      "ECLSA   ['Narendra Kumar']\n",
      "TSAI   ['Rajbala S']\n",
      "CIWW   ['Payel Pal']\n",
      "BFSS   ['A P Singh']\n",
      "SBA   ['Nabyendu Das']\n",
      "IBP   ['Ashok Garai']\n",
      "QCQI   ['Rakesh Tibrewala']\n",
      "ISP   ['Sunil Kumar Gauttam']\n",
      "OPTI   ['Somnath Maiti']\n"
     ]
    }
   ],
   "source": [
    "for key in course_teacher:\n",
    "        print(key,\" \",course_teacher[key])"
   ]
  },
  {
   "cell_type": "code",
   "execution_count": 48,
   "metadata": {},
   "outputs": [
    {
     "ename": "SyntaxError",
     "evalue": "invalid syntax (1056718328.py, line 1)",
     "output_type": "error",
     "traceback": [
      "\u001b[1;36m  File \u001b[1;32m\"C:\\Users\\karti\\AppData\\Local\\Temp\\ipykernel_19744\\1056718328.py\"\u001b[1;36m, line \u001b[1;32m1\u001b[0m\n\u001b[1;33m    lis_Batches=\u001b[0m\n\u001b[1;37m                ^\u001b[0m\n\u001b[1;31mSyntaxError\u001b[0m\u001b[1;31m:\u001b[0m invalid syntax\n"
     ]
    }
   ],
   "source": [
    "lis_Batches="
   ]
  },
  {
   "cell_type": "code",
   "execution_count": 49,
   "metadata": {},
   "outputs": [
    {
     "name": "stdout",
     "output_type": "stream",
     "text": [
      "Santosh Shah   ['BE', 'DCS']\n",
      "R Tomar   ['BE', 'EEM', 'EMPS', 'RFE']\n",
      "Kanjlochan Jena   ['BE', 'SEMI']\n",
      "Deepak Nair   ['BE', 'EEM']\n",
      "Poonam Gera   ['CP']\n",
      "Vibhor Kant   ['CP', 'GAA']\n",
      "Sudheer Sharma   ['CP', 'IS&M']\n",
      "Anukriti Bansal   ['CP', 'MPA']\n",
      "Manju Dhariwal   ['TCE']\n",
      "Usha Kanoongo   ['TCE']\n",
      "Payel Pal   ['TCE', 'CIWW']\n",
      "S K Gauttam   ['M-I']\n",
      "Manish Garg   ['M-I']\n",
      "Dheeerendra Mishra   ['M-I']\n",
      "Trivedi Harsh Chandrakant   ['M-I']\n",
      "Pomitha Ghoshal   ['CLP']\n",
      "Amit Neogi   ['CLP']\n",
      "G D Sharma   ['CLP']\n",
      "Subhayan Biswas   ['CLP']\n",
      "M K Kadalbajoo   ['M-III']\n",
      "Pratibha Garg   ['M-III']\n",
      "MTHTBD1   ['M-III']\n",
      "MTHTBD2   ['M-III']\n",
      "Mukesh Jadon   ['AP', 'IR']\n",
      "Puneet Jain   ['AP', 'AI']\n",
      "Rajbir Kaur   ['IDBMS']\n",
      "Nirmal S   ['IDBMS']\n",
      "Preety Singh   ['COA']\n",
      "Bharavi Mishra   ['COA']\n",
      "Kshitiz Verma   ['AI', 'DL']\n",
      "Subrat K Dash   ['IDS', 'DM']\n",
      "Sakthi Balan   ['IDS', 'UMC']\n",
      "Vikas Bajpai   ['SWE', 'FNFT']\n",
      "R P Gorthi   ['SWE']\n",
      "Navneet Upadhyay   ['S&S', 'DSP']\n",
      "Nikhil Sharma   ['S&S', 'DC']\n",
      "Kapil Jainwal   ['DCS', 'AVLSIC']\n",
      "Jayprakash Kar   ['OTA']\n",
      "Indrajeet singh   ['OTA']\n",
      "Hemant Mehta   ['CS', 'CC', 'BADUC']\n",
      "Shweta Bhandari   ['CS', 'IMAD']\n",
      "S Debnath   ['DC', 'MDC']\n",
      "Divyang Rawal   ['DSP']\n",
      "Rajbala Singh   ['PTS', 'PTS']\n",
      "Anu Malik   ['PTS', 'PTS']\n",
      "Abhishek Sharma   ['MICROI', 'AUTOSAR']\n",
      "S S Nehra   ['EFE', 'EFE']\n",
      "Gaurav Chaterjee   ['MEET']\n",
      "A K Dargar   ['MOS', 'MVIB']\n",
      "Manoj Kumar   ['MT 1', 'AMOS']\n",
      "Mayank Modak   ['MT 1', 'ATE']\n",
      "K K Khatri   ['ET', 'CFD']\n",
      "Vikram Sharma   ['IEM']\n",
      "Deepak Unnune   ['IEM', 'UMP']\n",
      "Purnendu Karmakar   ['IGCN']\n",
      "Arpi Majumder   ['ICHEM']\n",
      "Mohit Makker   ['MSI']\n",
      "Prabin Kumar Jha   ['VD']\n",
      "Ravi P Gorthi   ['FNFT']\n",
      "Rajul Banerjee   ['CPSDS']\n",
      "Sunil Kumar   ['RTS']\n",
      "Rajbir K   ['IIOT']\n",
      "Sunil K   ['IIOT']\n",
      "R Gangopadhyay   ['MDC']\n",
      "Joyeeta S   ['ITC', 'IIP']\n",
      "Divyang R   ['ITC']\n",
      "Kusum Lata   ['DFT']\n",
      "Deepak Selva Kumar   ['CFD']\n",
      "Narendra Kumar   ['ECLSA']\n",
      "Rajbala S   ['TSAI']\n",
      "A P Singh   ['BFSS']\n",
      "Nabyendu Das   ['SBA']\n",
      "Ashok Garai   ['IBP']\n",
      "Rakesh Tibrewala   ['QCQI']\n",
      "Sunil Kumar Gauttam   ['ISP']\n",
      "Somnath Maiti   ['OPTI']\n"
     ]
    }
   ],
   "source": [
    "for key in teacher_course:\n",
    "        print(key,\" \",teacher_course[key])"
   ]
  },
  {
   "cell_type": "code",
   "execution_count": 50,
   "metadata": {},
   "outputs": [
    {
     "name": "stdout",
     "output_type": "stream",
     "text": [
      "I   ['BE', 'CP', 'TCE', 'M-I', 'CLP']\n",
      "II   ['M-III', 'AP', 'IDBMS', 'COA', 'S&S', 'DCS', 'OTA', 'SEMI', 'EEM', 'EFE', 'PTS', 'MEET', 'MOS', 'MT 1', 'ET', 'IEM']\n",
      "III   ['AI', 'IDS', 'SWE', 'CS', 'DC', 'DSP', 'PTS', 'MICROI', 'EFE', 'IS&M', 'IR', 'IMAD', 'UMC', 'GAA', 'MPA', 'IGCN', 'EMPS', 'ICHEM', 'UMP', 'MSI', 'VD']\n",
      "IV   ['FNFT', 'CC', 'CPSDS', 'DM', 'RTS', 'DL', 'IIOT', 'BADUC', 'MDC', 'ITC', 'DFT', 'IIP', 'RFE', 'AVLSIC', 'ATE', 'CFD', 'MVIB', 'AMOS', 'AUTOSAR', 'ECLSA', 'TSAI', 'CIWW', 'BFSS', 'SBA', 'IBP', 'QCQI', 'ISP', 'OPTI']\n"
     ]
    }
   ],
   "source": [
    "for key in year_course:\n",
    "        print(key,\" \",year_course[key])"
   ]
  },
  {
   "cell_type": "code",
   "execution_count": null,
   "metadata": {},
   "outputs": [],
   "source": [
    "export"
   ]
  }
 ],
 "metadata": {
  "kernelspec": {
   "display_name": "Python 3.10.0 64-bit",
   "language": "python",
   "name": "python3"
  },
  "language_info": {
   "codemirror_mode": {
    "name": "ipython",
    "version": 3
   },
   "file_extension": ".py",
   "mimetype": "text/x-python",
   "name": "python",
   "nbconvert_exporter": "python",
   "pygments_lexer": "ipython3",
   "version": "3.10.0"
  },
  "orig_nbformat": 4,
  "vscode": {
   "interpreter": {
    "hash": "52d8b2cce12626a75dd80ec0b1f091e4d58d5d6264935d28de4f6beb60559a88"
   }
  }
 },
 "nbformat": 4,
 "nbformat_minor": 2
}
